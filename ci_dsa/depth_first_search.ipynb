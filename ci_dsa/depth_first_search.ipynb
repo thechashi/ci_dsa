{
 "cells": [
  {
   "cell_type": "markdown",
   "id": "c485adca",
   "metadata": {},
   "source": [
    "# Depth First Search"
   ]
  },
  {
   "cell_type": "markdown",
   "id": "74a5f9b8",
   "metadata": {},
   "source": [
    "<img src='img/dfs.png'>"
   ]
  },
  {
   "cell_type": "code",
   "execution_count": 4,
   "id": "bb046934",
   "metadata": {},
   "outputs": [
    {
     "name": "stdout",
     "output_type": "stream",
     "text": [
      "[1, 7, 9]\n"
     ]
    }
   ],
   "source": [
    "n = 13\n",
    "g = []\n",
    "g.append([1,9])\n",
    "g.append([0,8])\n",
    "g.append([3])\n",
    "g.append([4,5,7])\n",
    "g.append([3])\n",
    "g.append([3])\n",
    "g.append([5,7])\n",
    "g.append([3,8,10,11])\n",
    "g.append([1,7,9])\n",
    "g.append([0,8])\n",
    "g.append([7,11])\n",
    "g.append([7,10])\n",
    "g.append([])\n",
    "print(g[8])"
   ]
  },
  {
   "cell_type": "code",
   "execution_count": 7,
   "id": "9e41368f",
   "metadata": {},
   "outputs": [
    {
     "name": "stdout",
     "output_type": "stream",
     "text": [
      "Entering 0\n",
      "Visiting 0\n",
      "Entering 1\n",
      "Visiting 1\n",
      "Entering 0\n",
      "0 is already visited\n",
      "------------------------------------------------\n",
      "Entering 8\n",
      "Visiting 8\n",
      "Entering 1\n",
      "1 is already visited\n",
      "------------------------------------------------\n",
      "Entering 7\n",
      "Visiting 7\n",
      "Entering 3\n",
      "Visiting 3\n",
      "Entering 4\n",
      "Visiting 4\n",
      "Entering 3\n",
      "3 is already visited\n",
      "------------------------------------------------\n",
      "All neighbours of 4 is visited\n",
      "Entering 5\n",
      "Visiting 5\n",
      "Entering 3\n",
      "3 is already visited\n",
      "------------------------------------------------\n",
      "All neighbours of 5 is visited\n",
      "Entering 7\n",
      "7 is already visited\n",
      "------------------------------------------------\n",
      "All neighbours of 3 is visited\n",
      "Entering 8\n",
      "8 is already visited\n",
      "------------------------------------------------\n",
      "Entering 10\n",
      "Visiting 10\n",
      "Entering 7\n",
      "7 is already visited\n",
      "------------------------------------------------\n",
      "Entering 11\n",
      "Visiting 11\n",
      "Entering 7\n",
      "7 is already visited\n",
      "------------------------------------------------\n",
      "Entering 10\n",
      "10 is already visited\n",
      "------------------------------------------------\n",
      "All neighbours of 11 is visited\n",
      "All neighbours of 10 is visited\n",
      "Entering 11\n",
      "11 is already visited\n",
      "------------------------------------------------\n",
      "All neighbours of 7 is visited\n",
      "Entering 9\n",
      "Visiting 9\n",
      "Entering 0\n",
      "0 is already visited\n",
      "------------------------------------------------\n",
      "Entering 8\n",
      "8 is already visited\n",
      "------------------------------------------------\n",
      "All neighbours of 9 is visited\n",
      "All neighbours of 8 is visited\n",
      "All neighbours of 1 is visited\n",
      "Entering 9\n",
      "9 is already visited\n",
      "------------------------------------------------\n",
      "All neighbours of 0 is visited\n"
     ]
    }
   ],
   "source": [
    "visited = [False for i in range(n)]\n",
    "\n",
    "def dfs(at):\n",
    "    print('Entering {}'.format(at))\n",
    "    if visited[at]:\n",
    "        print('{} is already visited'.format(at))\n",
    "        print('------------------------------------------------')\n",
    "        return\n",
    "    print('Visiting {}'.format(at))\n",
    "    visited[at] = True\n",
    "    neighbours = g[at]\n",
    "    for neighbour in neighbours:\n",
    "        dfs(neighbour)\n",
    "    print('All neighbours of {} is visited'.format(at))\n",
    "\n",
    "dfs(0)"
   ]
  },
  {
   "cell_type": "markdown",
   "id": "451e7dbf",
   "metadata": {},
   "source": [
    "# Connected Components"
   ]
  },
  {
   "cell_type": "markdown",
   "id": "826e2eeb",
   "metadata": {},
   "source": [
    "<img src='img/connected_components.png'>"
   ]
  },
  {
   "cell_type": "code",
   "execution_count": 20,
   "id": "79cffb53",
   "metadata": {},
   "outputs": [
    {
     "name": "stdout",
     "output_type": "stream",
     "text": [
      "[1, 16, 17]\n"
     ]
    }
   ],
   "source": [
    "n = 18\n",
    "g = []\n",
    "g.append([4,8,13,14])\n",
    "g.append([5])\n",
    "g.append([9, 15])\n",
    "g.append([9])\n",
    "g.append([0,8])\n",
    "g.append([1, 16, 17])\n",
    "g.append([7, 11])\n",
    "g.append([6, 11])\n",
    "g.append([0,4,14])\n",
    "g.append([2,3,15])\n",
    "g.append([15])\n",
    "g.append([6,7])\n",
    "g.append([])\n",
    "g.append([0,14])\n",
    "g.append([0,8,13])\n",
    "g.append([2,9,10])\n",
    "g.append([5])\n",
    "g.append([5])\n",
    "print(g[5])"
   ]
  },
  {
   "cell_type": "code",
   "execution_count": 28,
   "id": "6fc276bd",
   "metadata": {},
   "outputs": [
    {
     "name": "stdout",
     "output_type": "stream",
     "text": [
      "5 [1, 2, 3, 3, 1, 2, 4, 4, 1, 3, 3, 4, 5, 1, 1, 3, 2, 2]\n"
     ]
    }
   ],
   "source": [
    "count = 0\n",
    "components = [-1 for i in range(n)]\n",
    "visited = [False for i in range(n)]\n",
    "\n",
    "def findComponents():\n",
    "    global count\n",
    "    for i in range(n):\n",
    "        if visited[i] == False:\n",
    "            count += 1\n",
    "            fc_dfs(i)\n",
    "    return (count, components)\n",
    "\n",
    "def fc_dfs(at):\n",
    "    if visited[at]:\n",
    "        return\n",
    "    visited[at] = True\n",
    "    components[at] = count\n",
    "    neighbours = g[at]\n",
    "    for neighbour in neighbours:\n",
    "        fc_dfs(neighbour)\n",
    "\n",
    "c, comps = findComponents()\n",
    "print(c, comps)"
   ]
  },
  {
   "cell_type": "code",
   "execution_count": 29,
   "id": "196aa814",
   "metadata": {},
   "outputs": [
    {
     "name": "stdout",
     "output_type": "stream",
     "text": [
      "[[0, 4, 8, 13, 14], [1, 5, 16, 17], [2, 3, 9, 10, 15], [6, 7, 11], [12]]\n"
     ]
    }
   ],
   "source": [
    "comps_total = []\n",
    "for i in range(1, c+1):\n",
    "    comp_list = []\n",
    "    for j in range(n):\n",
    "        if comps[j] == i:\n",
    "            comp_list.append(j)\n",
    "    comps_total.append(comp_list)\n",
    "print(comps_total)"
   ]
  },
  {
   "cell_type": "markdown",
   "id": "1d85e99c",
   "metadata": {},
   "source": [
    "# What else can DFS do? "
   ]
  },
  {
   "cell_type": "markdown",
   "id": "7d17f568",
   "metadata": {},
   "source": [
    "- compute a graph's minimum spanning tree\n",
    "- detect and find cycles in graph\n",
    "- check if a graph is bipartite\n",
    "- find strongly connected components\n",
    "- topologically sort the nodes of a graph\n",
    "- find bridges and articulation points\n",
    "- find augmenting paths in a flow network\n",
    "- generate mazes"
   ]
  },
  {
   "cell_type": "code",
   "execution_count": null,
   "id": "f349d172",
   "metadata": {},
   "outputs": [],
   "source": []
  }
 ],
 "metadata": {
  "kernelspec": {
   "display_name": "Python 3 (ipykernel)",
   "language": "python",
   "name": "python3"
  },
  "language_info": {
   "codemirror_mode": {
    "name": "ipython",
    "version": 3
   },
   "file_extension": ".py",
   "mimetype": "text/x-python",
   "name": "python",
   "nbconvert_exporter": "python",
   "pygments_lexer": "ipython3",
   "version": "3.8.10"
  }
 },
 "nbformat": 4,
 "nbformat_minor": 5
}
