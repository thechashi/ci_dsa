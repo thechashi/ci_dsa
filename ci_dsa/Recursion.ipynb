{
 "cells": [
  {
   "cell_type": "markdown",
   "id": "1ff55be5",
   "metadata": {},
   "source": [
    "# Factorial - a simple recursion\n",
    "\n",
    "n! = n*(n-1)! if n > 0 else 1\n",
    "\n",
    "Time complexity = O(n) : T(n) = T(n-1) + 3 # 1 comparison, 1 multiplication, and 1 subtraction\n",
    "\n",
    "Space Complexity = O(n) # n function calls and maximum n states saved in the function implicit stack "
   ]
  },
  {
   "cell_type": "code",
   "execution_count": 8,
   "id": "28194693",
   "metadata": {},
   "outputs": [],
   "source": [
    "def factorial(n):\n",
    "    print(\"I am calculating F({0})\".format(n))\n",
    "    if n == 0:\n",
    "        return 1\n",
    "    F = n*factorial(n-1)\n",
    "    print(\"Done! F{0} == {1}\".format(n, F))\n",
    "    return F"
   ]
  },
  {
   "cell_type": "code",
   "execution_count": 9,
   "id": "2d498b1e",
   "metadata": {},
   "outputs": [
    {
     "name": "stdout",
     "output_type": "stream",
     "text": [
      "I am calculating F(4)\n",
      "I am calculating F(3)\n",
      "I am calculating F(2)\n",
      "I am calculating F(1)\n",
      "I am calculating F(0)\n",
      "Done! F1 == 1\n",
      "Done! F2 == 2\n",
      "Done! F3 == 6\n",
      "Done! F4 == 24\n",
      "24\n"
     ]
    }
   ],
   "source": [
    "print(factorial(4))"
   ]
  },
  {
   "cell_type": "markdown",
   "id": "30fbaceb",
   "metadata": {},
   "source": [
    "# Fibonacci Sequence - recursion and \"Gotcha\n",
    "0 1 1 2 3 5 8 13 ...\n",
    "\n",
    "F(0) F(1) F(2) F(3) F(4) F(5) F(6) F(7) ..."
   ]
  },
  {
   "cell_type": "code",
   "execution_count": 42,
   "id": "bb764dda",
   "metadata": {},
   "outputs": [],
   "source": [
    "import time as t"
   ]
  },
  {
   "cell_type": "code",
   "execution_count": 43,
   "id": "7f1f4cd0",
   "metadata": {},
   "outputs": [
    {
     "name": "stdout",
     "output_type": "stream",
     "text": [
      "Give me an n:5\n",
      "5\n",
      "Execution time: 0.0008623600006103516\n"
     ]
    }
   ],
   "source": [
    "def Fib1(n): # Iterative\n",
    "    if n <= 1:\n",
    "        return n\n",
    "    F1 = 0\n",
    "    F2 = 1\n",
    "    for i in range(2, n+1):\n",
    "        F = F1 + F2\n",
    "        F1 = F2\n",
    "        F2 = F\n",
    "    return F\n",
    "n = input(\"Give me an n:\")\n",
    "start = t.time()\n",
    "print(Fib1(int(n)))\n",
    "end = t.time()\n",
    "print(\"Execution time: {}\".format(end-start))"
   ]
  },
  {
   "cell_type": "markdown",
   "id": "1bb43d21",
   "metadata": {},
   "source": [
    "T(n) = O(n) # linear time algorithm"
   ]
  },
  {
   "cell_type": "code",
   "execution_count": 44,
   "id": "9c324648",
   "metadata": {},
   "outputs": [
    {
     "name": "stdout",
     "output_type": "stream",
     "text": [
      "Give me an n:5\n",
      "5\n",
      "Execution time: 0.0002493858337402344\n"
     ]
    }
   ],
   "source": [
    "def Fib2(n): # Recursive\n",
    "    if n <= 1:\n",
    "        return n\n",
    "    return Fib2(n-1) + Fib2(n-2)\n",
    "\n",
    "n = input(\"Give me an n:\")\n",
    "\n",
    "start = t.time()\n",
    "print(Fib2(int(n)))\n",
    "end = t.time()\n",
    "print(\"Execution time: {}\".format(end-start))"
   ]
  },
  {
   "cell_type": "markdown",
   "id": "320e4f2b",
   "metadata": {},
   "source": [
    "Time complexity: lower bound T(2^(n/2)) and upper bound T(2^n) # exponential time algorithm\\\n",
    "T(n) = T(n-1) + T(n-2) + 4 # 1 <=, 1 + , 2 - \\\n",
    "T(0) = T(1) = 1 \\\n",
    "\n",
    "T(n-1) ~ T(n-2) \\\n",
    "T(n) = 2T(n-2) + c \\\n",
    "     = 2{2T(n-4) + c} + c \\\n",
    "     = 2^kT(n-2k) + (2^k-1)c \\\n",
    "     When n-2k = 0 -> k = n/2: \\\n",
    "     = 2^(n/2) T(0) + (2^(n/2)-1)c # lower bound \\\n",
    "     \n",
    "T(n-2) ~ T(n-1) \\\n",
    "T(n) = 2T(n-1) + c \\\n",
    "     = 4T(n-2) + 3c \\\n",
    "     = 2^kT(n-k) + (2^k-1)c\\\n",
    "     Whn n-k = 0 -> k = n \\\n",
    "     = 2^nT(0) + (2^n -1)c # higher bound \\"
   ]
  },
  {
   "cell_type": "markdown",
   "id": "f8b5155c",
   "metadata": {},
   "source": [
    "# Recusion with memoization"
   ]
  },
  {
   "cell_type": "code",
   "execution_count": 50,
   "id": "ecad0c33",
   "metadata": {},
   "outputs": [
    {
     "name": "stdout",
     "output_type": "stream",
     "text": [
      "Give me an n where n < 50:49\n",
      "7778742049\n",
      "Execution time: 0.0008080005645751953\n"
     ]
    }
   ],
   "source": [
    "F = [None]*50\n",
    "def Fib(n):\n",
    "    if n <=1:\n",
    "        return n\n",
    "    if F[n] != None:\n",
    "        return F[n]\n",
    "    F[n] = Fib(n-1) + Fib(n-2)\n",
    "    return F[n]\n",
    "\n",
    "n = input(\"Give me an n where n < 50:\")\n",
    "start = t.time()\n",
    "print(Fib(int(n)))\n",
    "end = t.time()\n",
    "print(\"Execution time: {}\".format(end-start))   "
   ]
  },
  {
   "cell_type": "markdown",
   "id": "9048bf0e",
   "metadata": {},
   "source": [
    "# Calculate x^n using recursion"
   ]
  },
  {
   "cell_type": "code",
   "execution_count": 55,
   "id": "eccac436",
   "metadata": {},
   "outputs": [
    {
     "name": "stdout",
     "output_type": "stream",
     "text": [
      "9094947017729282379150390625\n",
      "Algo 2 : 0.006117105484008789 secs\n",
      "9094947017729282379150390625\n",
      "Algo 3 : 0.0006444454193115234 secs\n"
     ]
    }
   ],
   "source": [
    "def pow1(x, n):\n",
    "    if n==1:\n",
    "        return 1\n",
    "    return x*pow(x,n-1)\n",
    "\n",
    "def pow2(x, n): # O(n)\n",
    "    res = 1\n",
    "    for i in range(1, n+1):\n",
    "        res = res * x\n",
    "    return res\n",
    "\n",
    "def pow3(x, n): # O(logn)\n",
    "    if n==0:\n",
    "        return 1\n",
    "    elif n%2 != 0:\n",
    "        return x* pow(x, n-1)\n",
    "    else:\n",
    "        y = pow(x, n/2)\n",
    "        return y*y\n",
    "start1= time.time()\n",
    "print(pow2(5, 40)) \n",
    "end1 = time.time()\n",
    "print(\"Algo 2 : {} secs\".format(end1-start1))\n",
    "\n",
    "start2= time.time()\n",
    "print(pow3(5, 40)) \n",
    "end2 = time.time()\n",
    "print(\"Algo 3 : {} secs\".format(end2-start2))"
   ]
  },
  {
   "cell_type": "markdown",
   "id": "41b02cc8",
   "metadata": {},
   "source": [
    "# Modular Exponentiation - using recursion\n",
    "x^n mod M \\\n",
    "5^2 mod 7 = 25 % 7 = 4 \\\n",
    "5^3 mod 7 = 125 % 7 = 6 \\\n",
    "\n",
    "int = 32 bits, 1 bit for sign so range = -2^31 to 2^31 \\\n",
    "so 2^100 will not fit here \\\n",
    "\n",
    "(a * b) % M = {(a%M) * (b%M)} % M \\\n",
    "(5*7) % 3 = 35 % 3  = 2 \\\n",
    "{(5%3) * (7%3)} % 3 = 2 \\\n",
    "\n",
    "x^n % M = {(x%M) * (x^n-1%M)} % M if n is odd \\\n",
    "        = {(x^n/2%M) * (x^n/2%M)} % M if n is even \\\n",
    "        = 1 if n == 0\n",
    "        "
   ]
  },
  {
   "cell_type": "code",
   "execution_count": 56,
   "id": "742bbf91",
   "metadata": {},
   "outputs": [
    {
     "name": "stdout",
     "output_type": "stream",
     "text": [
      "6\n",
      "Algo mod : 0.0004925727844238281 secs\n"
     ]
    }
   ],
   "source": [
    "def mod(x,n, M): # O(logn)\n",
    "    if n == 0:\n",
    "        return 1\n",
    "    elif n%2 == 0:\n",
    "        y = mod(x, n/2, M)\n",
    "        return (y*y) % M\n",
    "    else:\n",
    "        return ((x%M)*mod(x, n-1, M))%M\n",
    "    \n",
    "start= time.time()\n",
    "print(mod(5,3,7)) \n",
    "end = time.time()\n",
    "print(\"Algo mod : {} secs\".format(end-start))"
   ]
  },
  {
   "cell_type": "code",
   "execution_count": null,
   "id": "111019f0",
   "metadata": {},
   "outputs": [],
   "source": []
  }
 ],
 "metadata": {
  "kernelspec": {
   "display_name": "Python 3 (ipykernel)",
   "language": "python",
   "name": "python3"
  },
  "language_info": {
   "codemirror_mode": {
    "name": "ipython",
    "version": 3
   },
   "file_extension": ".py",
   "mimetype": "text/x-python",
   "name": "python",
   "nbconvert_exporter": "python",
   "pygments_lexer": "ipython3",
   "version": "3.8.10"
  }
 },
 "nbformat": 4,
 "nbformat_minor": 5
}
