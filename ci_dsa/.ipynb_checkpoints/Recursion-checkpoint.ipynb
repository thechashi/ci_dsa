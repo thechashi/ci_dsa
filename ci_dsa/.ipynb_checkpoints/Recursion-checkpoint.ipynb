{
 "cells": [
  {
   "cell_type": "markdown",
   "id": "222598a1",
   "metadata": {},
   "source": [
    "# Factorial - a simple recursion\n",
    "\n",
    "n! = n*(n-1)! if n > 0 else 1"
   ]
  },
  {
   "cell_type": "code",
   "execution_count": 8,
   "id": "c41d7474",
   "metadata": {},
   "outputs": [],
   "source": [
    "def factorial(n):\n",
    "    print(\"I am calculating F({0})\".format(n))\n",
    "    if n == 0:\n",
    "        return 1\n",
    "    F = n*factorial(n-1)\n",
    "    print(\"Done! F{0} == {1}\".format(n, F))\n",
    "    return F"
   ]
  },
  {
   "cell_type": "code",
   "execution_count": 9,
   "id": "5520f0a8",
   "metadata": {},
   "outputs": [
    {
     "name": "stdout",
     "output_type": "stream",
     "text": [
      "I am calculating F(4)\n",
      "I am calculating F(3)\n",
      "I am calculating F(2)\n",
      "I am calculating F(1)\n",
      "I am calculating F(0)\n",
      "Done! F1 == 1\n",
      "Done! F2 == 2\n",
      "Done! F3 == 6\n",
      "Done! F4 == 24\n",
      "24\n"
     ]
    }
   ],
   "source": [
    "print(factorial(4))"
   ]
  },
  {
   "cell_type": "code",
   "execution_count": null,
   "id": "5c112fda",
   "metadata": {},
   "outputs": [],
   "source": []
  },
  {
   "cell_type": "code",
   "execution_count": null,
   "id": "f52bd58b",
   "metadata": {},
   "outputs": [],
   "source": []
  }
 ],
 "metadata": {
  "kernelspec": {
   "display_name": "Python 3 (ipykernel)",
   "language": "python",
   "name": "python3"
  },
  "language_info": {
   "codemirror_mode": {
    "name": "ipython",
    "version": 3
   },
   "file_extension": ".py",
   "mimetype": "text/x-python",
   "name": "python",
   "nbconvert_exporter": "python",
   "pygments_lexer": "ipython3",
   "version": "3.8.10"
  }
 },
 "nbformat": 4,
 "nbformat_minor": 5
}
