{
 "cells": [
  {
   "cell_type": "markdown",
   "id": "2bbf449a",
   "metadata": {},
   "source": [
    "# Depth First Search"
   ]
  },
  {
   "cell_type": "markdown",
   "id": "bd214eb3",
   "metadata": {},
   "source": [
    "<img src='img/dfs.png'>"
   ]
  },
  {
   "cell_type": "code",
   "execution_count": 4,
   "id": "d358e27d",
   "metadata": {},
   "outputs": [
    {
     "name": "stdout",
     "output_type": "stream",
     "text": [
      "[1, 7, 9]\n"
     ]
    }
   ],
   "source": [
    "n = 13\n",
    "g = []\n",
    "g.append([1,9])\n",
    "g.append([0,8])\n",
    "g.append([3])\n",
    "g.append([4,5,7])\n",
    "g.append([3])\n",
    "g.append([3])\n",
    "g.append([5,7])\n",
    "g.append([3,8,10,11])\n",
    "g.append([1,7,9])\n",
    "g.append([0,8])\n",
    "g.append([7,11])\n",
    "g.append([7,10])\n",
    "g.append([])\n",
    "print(g[8])"
   ]
  },
  {
   "cell_type": "code",
   "execution_count": 7,
   "id": "f5130e00",
   "metadata": {},
   "outputs": [
    {
     "name": "stdout",
     "output_type": "stream",
     "text": [
      "Entering 0\n",
      "Visiting 0\n",
      "Entering 1\n",
      "Visiting 1\n",
      "Entering 0\n",
      "0 is already visited\n",
      "------------------------------------------------\n",
      "Entering 8\n",
      "Visiting 8\n",
      "Entering 1\n",
      "1 is already visited\n",
      "------------------------------------------------\n",
      "Entering 7\n",
      "Visiting 7\n",
      "Entering 3\n",
      "Visiting 3\n",
      "Entering 4\n",
      "Visiting 4\n",
      "Entering 3\n",
      "3 is already visited\n",
      "------------------------------------------------\n",
      "All neighbours of 4 is visited\n",
      "Entering 5\n",
      "Visiting 5\n",
      "Entering 3\n",
      "3 is already visited\n",
      "------------------------------------------------\n",
      "All neighbours of 5 is visited\n",
      "Entering 7\n",
      "7 is already visited\n",
      "------------------------------------------------\n",
      "All neighbours of 3 is visited\n",
      "Entering 8\n",
      "8 is already visited\n",
      "------------------------------------------------\n",
      "Entering 10\n",
      "Visiting 10\n",
      "Entering 7\n",
      "7 is already visited\n",
      "------------------------------------------------\n",
      "Entering 11\n",
      "Visiting 11\n",
      "Entering 7\n",
      "7 is already visited\n",
      "------------------------------------------------\n",
      "Entering 10\n",
      "10 is already visited\n",
      "------------------------------------------------\n",
      "All neighbours of 11 is visited\n",
      "All neighbours of 10 is visited\n",
      "Entering 11\n",
      "11 is already visited\n",
      "------------------------------------------------\n",
      "All neighbours of 7 is visited\n",
      "Entering 9\n",
      "Visiting 9\n",
      "Entering 0\n",
      "0 is already visited\n",
      "------------------------------------------------\n",
      "Entering 8\n",
      "8 is already visited\n",
      "------------------------------------------------\n",
      "All neighbours of 9 is visited\n",
      "All neighbours of 8 is visited\n",
      "All neighbours of 1 is visited\n",
      "Entering 9\n",
      "9 is already visited\n",
      "------------------------------------------------\n",
      "All neighbours of 0 is visited\n"
     ]
    }
   ],
   "source": [
    "visited = [False for i in range(n)]\n",
    "\n",
    "def dfs(at):\n",
    "    print('Entering {}'.format(at))\n",
    "    if visited[at]:\n",
    "        print('{} is already visited'.format(at))\n",
    "        print('------------------------------------------------')\n",
    "        return\n",
    "    print('Visiting {}'.format(at))\n",
    "    visited[at] = True\n",
    "    neighbours = g[at]\n",
    "    for neighbour in neighbours:\n",
    "        dfs(neighbour)\n",
    "    print('All neighbours of {} is visited'.format(at))\n",
    "\n",
    "dfs(0)"
   ]
  },
  {
   "cell_type": "markdown",
   "id": "5f35ac9f",
   "metadata": {},
   "source": [
    "# Connected Components"
   ]
  },
  {
   "cell_type": "markdown",
   "id": "9fe222eb",
   "metadata": {},
   "source": [
    "<img src='img/connected_components.png'>"
   ]
  },
  {
   "cell_type": "code",
   "execution_count": 9,
   "id": "6dd58f12",
   "metadata": {},
   "outputs": [
    {
     "name": "stdout",
     "output_type": "stream",
     "text": [
      "[1, 16, 17]\n"
     ]
    }
   ],
   "source": [
    "n = 18\n",
    "g = []\n",
    "g.append([4,8,13,14])\n",
    "g.append([5])\n",
    "g.append([9, 15])\n",
    "g.append([9])\n",
    "g.append([[0,8]])\n",
    "g.append([1, 16, 17])\n",
    "g.append([7, 11])\n",
    "g.append([6, 11])\n",
    "g.append([0,4,14])\n",
    "g.append([2,3,15])\n",
    "g.append([15])\n",
    "g.append([6,7])\n",
    "g.append([])\n",
    "g.append([0,14])\n",
    "g.append([0,8,13])\n",
    "g.append([2,9,10])\n",
    "g.append([5])\n",
    "g.append([5])\n",
    "print(g[5])"
   ]
  },
  {
   "cell_type": "code",
   "execution_count": 16,
   "id": "55af37a4",
   "metadata": {},
   "outputs": [
    {
     "name": "stdout",
     "output_type": "stream",
     "text": [
      "Entering 0\n",
      "Visiting 0\n",
      "Entering 4\n",
      "Visiting 4\n",
      "Entering [0, 8]\n"
     ]
    },
    {
     "ename": "TypeError",
     "evalue": "list indices must be integers or slices, not list",
     "output_type": "error",
     "traceback": [
      "\u001b[0;31m---------------------------------------------------------------------------\u001b[0m",
      "\u001b[0;31mTypeError\u001b[0m                                 Traceback (most recent call last)",
      "\u001b[0;32m/tmp/ipykernel_12924/3816524389.py\u001b[0m in \u001b[0;36m<module>\u001b[0;34m\u001b[0m\n\u001b[1;32m     19\u001b[0m         \u001b[0mdfs\u001b[0m\u001b[0;34m(\u001b[0m\u001b[0mneighbour\u001b[0m\u001b[0;34m)\u001b[0m\u001b[0;34m\u001b[0m\u001b[0;34m\u001b[0m\u001b[0m\n\u001b[1;32m     20\u001b[0m \u001b[0;34m\u001b[0m\u001b[0m\n\u001b[0;32m---> 21\u001b[0;31m \u001b[0mfindComponents\u001b[0m\u001b[0;34m(\u001b[0m\u001b[0;36m0\u001b[0m\u001b[0;34m)\u001b[0m\u001b[0;34m\u001b[0m\u001b[0;34m\u001b[0m\u001b[0m\n\u001b[0m",
      "\u001b[0;32m/tmp/ipykernel_12924/3816524389.py\u001b[0m in \u001b[0;36mfindComponents\u001b[0;34m(count)\u001b[0m\n\u001b[1;32m      7\u001b[0m         \u001b[0;32mif\u001b[0m \u001b[0mvisited\u001b[0m\u001b[0;34m[\u001b[0m\u001b[0mi\u001b[0m\u001b[0;34m]\u001b[0m \u001b[0;34m==\u001b[0m \u001b[0;32mFalse\u001b[0m\u001b[0;34m:\u001b[0m\u001b[0;34m\u001b[0m\u001b[0;34m\u001b[0m\u001b[0m\n\u001b[1;32m      8\u001b[0m             \u001b[0mcount\u001b[0m \u001b[0;34m+=\u001b[0m \u001b[0;36m1\u001b[0m\u001b[0;34m\u001b[0m\u001b[0;34m\u001b[0m\u001b[0m\n\u001b[0;32m----> 9\u001b[0;31m             \u001b[0mdfs\u001b[0m\u001b[0;34m(\u001b[0m\u001b[0mi\u001b[0m\u001b[0;34m)\u001b[0m\u001b[0;34m\u001b[0m\u001b[0;34m\u001b[0m\u001b[0m\n\u001b[0m\u001b[1;32m     10\u001b[0m     \u001b[0;32mreturn\u001b[0m \u001b[0;34m(\u001b[0m\u001b[0mcount\u001b[0m\u001b[0;34m,\u001b[0m \u001b[0mcomponents\u001b[0m\u001b[0;34m)\u001b[0m\u001b[0;34m\u001b[0m\u001b[0;34m\u001b[0m\u001b[0m\n\u001b[1;32m     11\u001b[0m \u001b[0;34m\u001b[0m\u001b[0m\n",
      "\u001b[0;32m/tmp/ipykernel_12924/1434674332.py\u001b[0m in \u001b[0;36mdfs\u001b[0;34m(at)\u001b[0m\n\u001b[1;32m     11\u001b[0m     \u001b[0mneighbours\u001b[0m \u001b[0;34m=\u001b[0m \u001b[0mg\u001b[0m\u001b[0;34m[\u001b[0m\u001b[0mat\u001b[0m\u001b[0;34m]\u001b[0m\u001b[0;34m\u001b[0m\u001b[0;34m\u001b[0m\u001b[0m\n\u001b[1;32m     12\u001b[0m     \u001b[0;32mfor\u001b[0m \u001b[0mneighbour\u001b[0m \u001b[0;32min\u001b[0m \u001b[0mneighbours\u001b[0m\u001b[0;34m:\u001b[0m\u001b[0;34m\u001b[0m\u001b[0;34m\u001b[0m\u001b[0m\n\u001b[0;32m---> 13\u001b[0;31m         \u001b[0mdfs\u001b[0m\u001b[0;34m(\u001b[0m\u001b[0mneighbour\u001b[0m\u001b[0;34m)\u001b[0m\u001b[0;34m\u001b[0m\u001b[0;34m\u001b[0m\u001b[0m\n\u001b[0m\u001b[1;32m     14\u001b[0m     \u001b[0mprint\u001b[0m\u001b[0;34m(\u001b[0m\u001b[0;34m'All neighbours of {} is visited'\u001b[0m\u001b[0;34m.\u001b[0m\u001b[0mformat\u001b[0m\u001b[0;34m(\u001b[0m\u001b[0mat\u001b[0m\u001b[0;34m)\u001b[0m\u001b[0;34m)\u001b[0m\u001b[0;34m\u001b[0m\u001b[0;34m\u001b[0m\u001b[0m\n\u001b[1;32m     15\u001b[0m \u001b[0;34m\u001b[0m\u001b[0m\n",
      "\u001b[0;32m/tmp/ipykernel_12924/1434674332.py\u001b[0m in \u001b[0;36mdfs\u001b[0;34m(at)\u001b[0m\n\u001b[1;32m     11\u001b[0m     \u001b[0mneighbours\u001b[0m \u001b[0;34m=\u001b[0m \u001b[0mg\u001b[0m\u001b[0;34m[\u001b[0m\u001b[0mat\u001b[0m\u001b[0;34m]\u001b[0m\u001b[0;34m\u001b[0m\u001b[0;34m\u001b[0m\u001b[0m\n\u001b[1;32m     12\u001b[0m     \u001b[0;32mfor\u001b[0m \u001b[0mneighbour\u001b[0m \u001b[0;32min\u001b[0m \u001b[0mneighbours\u001b[0m\u001b[0;34m:\u001b[0m\u001b[0;34m\u001b[0m\u001b[0;34m\u001b[0m\u001b[0m\n\u001b[0;32m---> 13\u001b[0;31m         \u001b[0mdfs\u001b[0m\u001b[0;34m(\u001b[0m\u001b[0mneighbour\u001b[0m\u001b[0;34m)\u001b[0m\u001b[0;34m\u001b[0m\u001b[0;34m\u001b[0m\u001b[0m\n\u001b[0m\u001b[1;32m     14\u001b[0m     \u001b[0mprint\u001b[0m\u001b[0;34m(\u001b[0m\u001b[0;34m'All neighbours of {} is visited'\u001b[0m\u001b[0;34m.\u001b[0m\u001b[0mformat\u001b[0m\u001b[0;34m(\u001b[0m\u001b[0mat\u001b[0m\u001b[0;34m)\u001b[0m\u001b[0;34m)\u001b[0m\u001b[0;34m\u001b[0m\u001b[0;34m\u001b[0m\u001b[0m\n\u001b[1;32m     15\u001b[0m \u001b[0;34m\u001b[0m\u001b[0m\n",
      "\u001b[0;32m/tmp/ipykernel_12924/1434674332.py\u001b[0m in \u001b[0;36mdfs\u001b[0;34m(at)\u001b[0m\n\u001b[1;32m      3\u001b[0m \u001b[0;32mdef\u001b[0m \u001b[0mdfs\u001b[0m\u001b[0;34m(\u001b[0m\u001b[0mat\u001b[0m\u001b[0;34m)\u001b[0m\u001b[0;34m:\u001b[0m\u001b[0;34m\u001b[0m\u001b[0;34m\u001b[0m\u001b[0m\n\u001b[1;32m      4\u001b[0m     \u001b[0mprint\u001b[0m\u001b[0;34m(\u001b[0m\u001b[0;34m'Entering {}'\u001b[0m\u001b[0;34m.\u001b[0m\u001b[0mformat\u001b[0m\u001b[0;34m(\u001b[0m\u001b[0mat\u001b[0m\u001b[0;34m)\u001b[0m\u001b[0;34m)\u001b[0m\u001b[0;34m\u001b[0m\u001b[0;34m\u001b[0m\u001b[0m\n\u001b[0;32m----> 5\u001b[0;31m     \u001b[0;32mif\u001b[0m \u001b[0mvisited\u001b[0m\u001b[0;34m[\u001b[0m\u001b[0mat\u001b[0m\u001b[0;34m]\u001b[0m\u001b[0;34m:\u001b[0m\u001b[0;34m\u001b[0m\u001b[0;34m\u001b[0m\u001b[0m\n\u001b[0m\u001b[1;32m      6\u001b[0m         \u001b[0mprint\u001b[0m\u001b[0;34m(\u001b[0m\u001b[0;34m'{} is already visited'\u001b[0m\u001b[0;34m.\u001b[0m\u001b[0mformat\u001b[0m\u001b[0;34m(\u001b[0m\u001b[0mat\u001b[0m\u001b[0;34m)\u001b[0m\u001b[0;34m)\u001b[0m\u001b[0;34m\u001b[0m\u001b[0;34m\u001b[0m\u001b[0m\n\u001b[1;32m      7\u001b[0m         \u001b[0mprint\u001b[0m\u001b[0;34m(\u001b[0m\u001b[0;34m'------------------------------------------------'\u001b[0m\u001b[0;34m)\u001b[0m\u001b[0;34m\u001b[0m\u001b[0;34m\u001b[0m\u001b[0m\n",
      "\u001b[0;31mTypeError\u001b[0m: list indices must be integers or slices, not list"
     ]
    }
   ],
   "source": [
    "count = 0\n",
    "components = [-1 for i in range(n)]\n",
    "visited = [False for i in range(n)]\n",
    "\n",
    "def findComponents(count):\n",
    "    for i in range(n):\n",
    "        if visited[i] == False:\n",
    "            count += 1\n",
    "            dfs(i)\n",
    "    return (count, components)\n",
    "\n",
    "def fc_dfs(at):\n",
    "    if visited[at]:\n",
    "        return\n",
    "    visited[at] = True\n",
    "    components[at] = count\n",
    "    neighbours = g[at]\n",
    "    for neighbour in neighbours:\n",
    "        fc_dfs(neighbour)\n",
    "\n",
    "findComponents(0)"
   ]
  },
  {
   "cell_type": "code",
   "execution_count": null,
   "id": "6fffbd0b",
   "metadata": {},
   "outputs": [],
   "source": []
  }
 ],
 "metadata": {
  "kernelspec": {
   "display_name": "Python 3 (ipykernel)",
   "language": "python",
   "name": "python3"
  },
  "language_info": {
   "codemirror_mode": {
    "name": "ipython",
    "version": 3
   },
   "file_extension": ".py",
   "mimetype": "text/x-python",
   "name": "python",
   "nbconvert_exporter": "python",
   "pygments_lexer": "ipython3",
   "version": "3.8.10"
  }
 },
 "nbformat": 4,
 "nbformat_minor": 5
}
